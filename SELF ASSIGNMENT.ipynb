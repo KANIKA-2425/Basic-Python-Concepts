{
 "cells": [
  {
   "cell_type": "code",
   "execution_count": 1,
   "id": "24a7b9a9-dfe3-4943-ae15-3179ec138ff8",
   "metadata": {},
   "outputs": [
    {
     "name": "stdin",
     "output_type": "stream",
     "text": [
      "Enter first number:  89\n",
      "Enter second number:  56\n"
     ]
    },
    {
     "name": "stdout",
     "output_type": "stream",
     "text": [
      "You entered: 89 and 56\n"
     ]
    }
   ],
   "source": [
    "#1.  Takes two numbers as input from the user.\n",
    "num1 = input(\"Enter first number: \")\n",
    "num2 = input(\"Enter second number: \")\n",
    "print(\"You entered:\", num1, \"and\", num2)\n"
   ]
  },
  {
   "cell_type": "code",
   "execution_count": 2,
   "id": "e424a744-3aa4-4be4-aa36-61e9c7b05174",
   "metadata": {},
   "outputs": [
    {
     "name": "stdin",
     "output_type": "stream",
     "text": [
      "Enter first number:  78\n",
      "Enter second number:  8\n"
     ]
    },
    {
     "name": "stdout",
     "output_type": "stream",
     "text": [
      "Addition: 86\n",
      "Subtraction: 70\n",
      "Multiplication: 624\n",
      "Division: 9.75\n"
     ]
    }
   ],
   "source": [
    "#2.  Performs the basic mathematical operations on these two numbers:\n",
    "\n",
    "num1 = int(input(\"Enter first number: \"))\n",
    "num2 = int(input(\"Enter second number: \"))\n",
    "\n",
    "# Perform operations\n",
    "addition = num1 + num2\n",
    "subtraction = num1 - num2\n",
    "multiplication = num1 * num2\n",
    "\n",
    "# Division with zero check\n",
    "if num2 != 0:\n",
    "    division = num1 / num2\n",
    "else:\n",
    "    division = \"Cannot divide by zero\"\n",
    "\n",
    "# Print results\n",
    "print(\"Addition:\", addition)\n",
    "print(\"Subtraction:\", subtraction)\n",
    "print(\"Multiplication:\", multiplication)\n",
    "print(\"Division:\", division)\n"
   ]
  },
  {
   "cell_type": "code",
   "execution_count": 4,
   "id": "840ef06a-0317-4b6e-815f-448a8997d202",
   "metadata": {},
   "outputs": [
    {
     "name": "stdin",
     "output_type": "stream",
     "text": [
      "Enter your first name:  KANIKA\n",
      "Enter your last name:  MEHNDIRATTA\n"
     ]
    },
    {
     "name": "stdout",
     "output_type": "stream",
     "text": [
      "Hello, KANIKA MEHNDIRATTA! Welcome to Python programming.\n"
     ]
    }
   ],
   "source": [
    "'''Problem Statement: Write a Python program that:\n",
    "1.  Takes a user's first name and last name as input.\n",
    "2.  Concatenates the first name and last name into a full name.\n",
    "3.  Prints a personalized greeting message using the full name.'''\n",
    "\n",
    "first_name = input(\"Enter your first name: \")\n",
    "last_name = input(\"Enter your last name: \")\n",
    "full_name = first_name + \" \" + last_name\n",
    "print(\"Hello,\", full_name + \"! Welcome to Python programming.\")\n"
   ]
  },
  {
   "cell_type": "code",
   "execution_count": null,
   "id": "1387b262-0bf8-4607-b4e3-9abc5bc1844e",
   "metadata": {},
   "outputs": [],
   "source": []
  }
 ],
 "metadata": {
  "kernelspec": {
   "display_name": "Python 3 (ipykernel)",
   "language": "python",
   "name": "python3"
  },
  "language_info": {
   "codemirror_mode": {
    "name": "ipython",
    "version": 3
   },
   "file_extension": ".py",
   "mimetype": "text/x-python",
   "name": "python",
   "nbconvert_exporter": "python",
   "pygments_lexer": "ipython3",
   "version": "3.13.2"
  }
 },
 "nbformat": 4,
 "nbformat_minor": 5
}
